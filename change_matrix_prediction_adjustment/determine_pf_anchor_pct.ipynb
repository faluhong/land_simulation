{
 "cells": [
  {
   "metadata": {},
   "cell_type": "markdown",
   "source": "Determine the anchor points of primary forest percentage in 1492, 1697, 1804, and 1921 for hindcasting",
   "id": "b258cc1ecaa00981"
  },
  {
   "metadata": {
    "ExecuteTime": {
     "end_time": "2024-06-27T16:52:42.109827Z",
     "start_time": "2024-06-27T16:52:19.330760Z"
    }
   },
   "cell_type": "code",
   "source": [
    "import numpy as np\n",
    "import os\n",
    "from os.path import join\n",
    "import sys\n",
    "from osgeo import gdal_array, gdal, gdalconst\n",
    "\n",
    "pwd = os.getcwd()\n",
    "rootpath = os.path.abspath(os.path.join(pwd, '../..'))\n",
    "path_pythoncode = join(rootpath, 'pythoncode')\n",
    "sys.path.append(path_pythoncode)\n",
    "\n",
    "from land_change_model_publish_lc.change_matrix_published_version import land_cover_map_read_published_version\n",
    "\n",
    "if __name__ == '__main__':\n",
    "\n",
    "    filename_country_id = join(rootpath, 'data', 'shapefile', 'landmask', 'countryid_hispaniola.tif')\n",
    "    img_country_id = gdal_array.LoadFile(filename_country_id)\n",
    "\n",
    "    img_central_valley = gdal_array.LoadFile(join(rootpath, 'data', 'historical_records', '1697_Central Valley_AG', '1697_central_valley_ag.tif'))\n",
    "\n",
    "    filename_dem = join(rootpath, 'data', 'dem', 'hispaniola_dem_info', 'dem_mosaic.tif')\n",
    "    img_dem = gdal_array.LoadFile(filename_dem)\n",
    "    img_dem = img_dem.astype(float)\n",
    "    img_dem[img_country_id == 0] = np.nan\n",
    "    \n",
    "    # read the land cover in 1996 and get the mask of PF in 1996\n",
    "    img_lc_1996 = land_cover_map_read_published_version(year=1996, country_flag='hispaniola')\n",
    "    mask_pf_1996 = (img_lc_1996 == 2) | (img_lc_1996 == 3)\n",
    "    \n",
    "    count_land_total = np.count_nonzero(img_country_id > 0)\n",
    "    # water and wetland keep stable in all years \n",
    "    count_land_exclude_water_wetland = count_land_total - np.count_nonzero((img_lc_1996 == 6) | (img_lc_1996 == 9))\n",
    "    print('count_land_total: ', count_land_total)\n",
    "    print('count_land_exclude_water_wetland: ', count_land_exclude_water_wetland)\n",
    "    \n",
    "    # primary forest target in 1492: 96% of Hispaniola is primary forest, rest 4% is agriculture\n",
    "    pf_count_1492 = int(np.ceil(count_land_exclude_water_wetland * 0.96))\n",
    "    print(f'percentage of PF in 1492: {pf_count_1492 / count_land_total}')"
   ],
   "id": "ac3502fe264328ad",
   "outputs": [
    {
     "name": "stdout",
     "output_type": "stream",
     "text": [
      "count_land_total:  83554703\n",
      "count_land_exclude_water_wetland:  82910737\n",
      "percentage of PF in 1492: 0.9526011719531814\n"
     ]
    }
   ],
   "execution_count": 27
  },
  {
   "metadata": {
    "ExecuteTime": {
     "end_time": "2024-06-27T17:45:58.891907Z",
     "start_time": "2024-06-27T17:45:58.119212Z"
    }
   },
   "cell_type": "code",
   "source": "    np.count_nonzero((img_lc_1996 == 3) & (img_country_id == 2)) / np.count_nonzero(img_country_id == 2)",
   "id": "3ae350916ae84c9e",
   "outputs": [
    {
     "data": {
      "text/plain": [
       "0.011383742132023165"
      ]
     },
     "execution_count": 34,
     "metadata": {},
     "output_type": "execute_result"
    }
   ],
   "execution_count": 34
  },
  {
   "metadata": {
    "ExecuteTime": {
     "end_time": "2024-06-27T16:53:24.229894Z",
     "start_time": "2024-06-27T16:53:22.060249Z"
    }
   },
   "cell_type": "code",
   "source": [
    "    # primary forest target in 1697: Central valley did not have PF, above 600 meter is PF, below 300 meter is not PF, \n",
    "    # between 300-600 meter is not sure, used to determine the boundary \n",
    "    # primary dry forest below 300 meter should be considered and adjusted\n",
    "    mask_elevation_1697 = (img_country_id > 0) & (img_dem > 300) & (img_central_valley == 0)\n",
    "    # pf_count_1697 = np.count_nonzero(mask_elevation_1697) + np.count_nonzero(mask_pf_1996 & ~mask_elevation_1697)\n",
    "    \n",
    "    # Minimum PF in 1697: using 600 meter as the threshold\n",
    "    proportion_pf_above_600 = np.count_nonzero((mask_pf_1996 & (img_dem > 600))) / np.count_nonzero(img_dem > 600)  # proportion of primary forest above 600 meter\n",
    "    proportion_pf_below_600 = np.count_nonzero((mask_pf_1996 & (img_dem <= 600))) / np.count_nonzero(img_dem <= 600)\n",
    "    \n",
    "    print(f'proportion of PF above 600 meter in 1996: {proportion_pf_above_600}')\n",
    "    print(f'proportion of PF below 600 meter in 1996: {proportion_pf_below_600}')\n",
    "    \n",
    "    # adjust the primary forest count below 600 meter based on the proportion of primary forest above 600 meter\n",
    "    # if in 1697, below 600 meter is 100%, then the PF below 600 meter should be adjusted, PF_count_below_600 / proportion_pf_above_600\n",
    "    adjust_pf_below_600 = np.count_nonzero((mask_pf_1996 & (img_dem <= 600))) / proportion_pf_above_600 \n",
    "    \n",
    "    # The final PF count in 1697 = PF count above 600 meter + adjusted PF count below 600 meter\n",
    "    pf_count_minimum_1697 = np.count_nonzero((img_country_id > 0) & (img_dem > 600) & (img_central_valley == 0)) + adjust_pf_below_600\n",
    "    pf_count_minimum_1697 = int(np.ceil(pf_count_minimum_1697))\n",
    "    \n",
    "    print(f'minimum percentage of PF in 1697: {pf_count_minimum_1697 / count_land_total}')"
   ],
   "id": "a767c450df14b658",
   "outputs": [
    {
     "name": "stdout",
     "output_type": "stream",
     "text": [
      "proportion of PF above 600 meter in 1996: 0.17241173304809088\n",
      "proportion of PF below 600 meter in 1996: 0.010128036935816853\n",
      "minimum percentage of PF in 1697: 0.28039154181422915\n"
     ]
    }
   ],
   "execution_count": 29
  },
  {
   "metadata": {
    "ExecuteTime": {
     "end_time": "2024-06-27T16:53:41.442402Z",
     "start_time": "2024-06-27T16:53:39.857414Z"
    }
   },
   "cell_type": "code",
   "source": [
    "    # Maximum in 1697: using 300 meter as the threshold\n",
    "    proportion_pf_above_300 = np.count_nonzero((mask_pf_1996 & (img_dem > 300))) / np.count_nonzero(img_dem > 300)  # proportion of primary forest above 600 meter\n",
    "    proportion_pf_below_300 = np.count_nonzero((mask_pf_1996 & (img_dem <= 300))) / np.count_nonzero(img_dem <= 300)\n",
    "    \n",
    "    print(f'proportion of PF above 300 meter in 1996: {proportion_pf_above_300}')\n",
    "    print(f'proportion of PF below 300 meter in 1996: {proportion_pf_below_300}')\n",
    "    \n",
    "    # adjust the primary forest count below 600 meter based on the proportion of primary forest above 600 meter\n",
    "    # if in 1697, below 600 meter is 100%, then the PF below 600 meter should be adjusted, PF_count_below_600 / proportion_pf_above_600\n",
    "    adjust_pf_below_300 = np.count_nonzero((mask_pf_1996 & (img_dem <= 300))) / proportion_pf_above_300 \n",
    "    \n",
    "    # The final PF count in 1697 = PF count above 600 meter + adjusted PF count below 600 meter\n",
    "    pf_count_maximum_1697 = np.count_nonzero((img_country_id > 0) & (img_dem > 300) & (img_central_valley == 0)) + adjust_pf_below_300\n",
    "    pf_count_maximum_1697 = int(np.ceil(pf_count_maximum_1697))\n",
    "    \n",
    "    print(f'maximum percentage of PF in 1697: {pf_count_maximum_1697 / count_land_total}')\n",
    "    "
   ],
   "id": "2c7a09e52cd18afd",
   "outputs": [
    {
     "name": "stdout",
     "output_type": "stream",
     "text": [
      "proportion of PF above 300 meter in 1996: 0.09352127655098554\n",
      "proportion of PF below 300 meter in 1996: 0.012745935961893457\n",
      "maximum percentage of PF in 1697: 0.4852002406136253\n"
     ]
    }
   ],
   "execution_count": 30
  },
  {
   "metadata": {
    "ExecuteTime": {
     "end_time": "2024-06-27T16:54:06.693613Z",
     "start_time": "2024-06-27T16:54:03.021960Z"
    }
   },
   "cell_type": "code",
   "source": [
    "    # primary forest target in 1804: all of Haiti above 1000 meter and all of DR above 600 meter are primary forest\n",
    "    mask_elevation_1804 = ((img_country_id == 1) & (img_dem > 1000)) | ((img_country_id == 2) & (img_dem > 600))\n",
    "    pf_count_1804 = np.count_nonzero(mask_elevation_1804) + np.count_nonzero((img_lc_1996 == 3) & ~mask_elevation_1804)\n",
    "    \n",
    "    proportion_pf_haiti_above_1000 = np.count_nonzero(mask_pf_1996 & (img_dem > 1000)) / np.count_nonzero(img_dem > 1000)\n",
    "    proportion_pf_haiti_below_1000 = np.count_nonzero(mask_pf_1996 & (img_dem <= 1000)) / np.count_nonzero(img_dem <= 1000)\n",
    "    \n",
    "    print(f'proportion of PF above 1000 meter in 1996, Haiti: {proportion_pf_haiti_above_1000}')\n",
    "    print(f'proportion of PF below 1000 meter in 1996, Haiti: {proportion_pf_haiti_below_1000}')\n",
    "    \n",
    "    proportion_pf_dr_above_600 = np.count_nonzero(mask_pf_1996 & (img_dem > 600)) / np.count_nonzero(img_dem > 600)\n",
    "    proportion_pf_dr_below_600 = np.count_nonzero(mask_pf_1996 & (img_dem <= 600)) / np.count_nonzero(img_dem <= 600)\n",
    "    \n",
    "    print(f'proportion of PF above 600 meter in 1996, DR: {proportion_pf_dr_above_600}')\n",
    "    print(f'proportion of PF below 600 meter in 1996, DR: {proportion_pf_dr_below_600}')\n",
    "    \n",
    "    adjust_pf_haiti_below_1000 = np.count_nonzero(mask_pf_1996 & (img_dem <= 1000)) / proportion_pf_haiti_above_1000\n",
    "    adjust_pf_dr_below_600 = np.count_nonzero(mask_pf_1996 & (img_dem <= 600)) / proportion_pf_dr_above_600\n",
    "    \n",
    "    pf_count_1804 = np.count_nonzero((img_country_id == 1) & (img_dem > 1000)) + adjust_pf_haiti_below_1000 + np.count_nonzero((img_country_id == 2) & (img_dem > 600)) + adjust_pf_dr_below_600\n",
    "    pf_count_1804 = int(np.ceil(pf_count_1804))\n",
    "    \n",
    "    print(f'percentage of PF in 1804: {pf_count_1804 / count_land_total}')    "
   ],
   "id": "37ed1728a7926a97",
   "outputs": [
    {
     "name": "stdout",
     "output_type": "stream",
     "text": [
      "proportion of PF above 1000 meter in 1996, Haiti: 0.34980413832611834\n",
      "proportion of PF below 1000 meter in 1996, Haiti: 0.012254709442410205\n",
      "proportion of PF above 600 meter in 1996, DR: 0.17241173304809088\n",
      "proportion of PF below 600 meter in 1996, DR: 0.010128036935816853\n",
      "percentage of PF in 1804: 0.25190558094617366\n"
     ]
    }
   ],
   "execution_count": 31
  },
  {
   "metadata": {
    "ExecuteTime": {
     "end_time": "2024-06-27T16:54:36.961064Z",
     "start_time": "2024-06-27T16:54:36.123815Z"
    }
   },
   "cell_type": "code",
   "source": [
    "    # primary forest increase target in 1921: 5%-10% in Haiti and 10%-30% in DR\n",
    "    pf_count_1921 = np.count_nonzero(img_country_id == 1) * 0.075 + np.count_nonzero(img_country_id == 2) * 0.2\n",
    "    pf_count_1921 = int(np.ceil(pf_count_1921))\n",
    "    \n",
    "    pf_count_minimum_1921 = np.count_nonzero(img_country_id == 1) * 0.05 + np.count_nonzero(img_country_id == 2) * 0.1\n",
    "    pf_count_maximum_1921 = np.count_nonzero(img_country_id == 1) * 0.1 + np.count_nonzero(img_country_id == 2) * 0.3\n",
    "    \n",
    "    print(f'percentage of PF in 1921: {pf_count_1921 / count_land_total}')\n",
    "    print(f'minimum percentage of PF in 1921: {pf_count_minimum_1921 / count_land_total}')\n",
    "    print(f'maximum percentage of PF in 1921: {pf_count_maximum_1921 / count_land_total}')"
   ],
   "id": "391dcdb86e68b886",
   "outputs": [
    {
     "name": "stdout",
     "output_type": "stream",
     "text": [
      "percentage of PF in 1921: 0.1549410330618972\n",
      "minimum percentage of PF in 1921: 0.08197641190825608\n",
      "maximum percentage of PF in 1921: 0.22790564763302432\n"
     ]
    }
   ],
   "execution_count": 32
  }
 ],
 "metadata": {
  "kernelspec": {
   "display_name": "Python 3",
   "language": "python",
   "name": "python3"
  },
  "language_info": {
   "codemirror_mode": {
    "name": "ipython",
    "version": 2
   },
   "file_extension": ".py",
   "mimetype": "text/x-python",
   "name": "python",
   "nbconvert_exporter": "python",
   "pygments_lexer": "ipython2",
   "version": "2.7.6"
  }
 },
 "nbformat": 4,
 "nbformat_minor": 5
}
